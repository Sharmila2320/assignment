{
  "nbformat": 4,
  "nbformat_minor": 0,
  "metadata": {
    "colab": {
      "provenance": [],
      "authorship_tag": "ABX9TyP6PQkZ1n+iN/bNhmcd+oX8",
      "include_colab_link": true
    },
    "kernelspec": {
      "name": "python3",
      "display_name": "Python 3"
    },
    "language_info": {
      "name": "python"
    }
  },
  "cells": [
    {
      "cell_type": "markdown",
      "metadata": {
        "id": "view-in-github",
        "colab_type": "text"
      },
      "source": [
        "<a href=\"https://colab.research.google.com/github/Sharmila2320/assignment/blob/main/Assignment_2_PS3.ipynb\" target=\"_parent\"><img src=\"https://colab.research.google.com/assets/colab-badge.svg\" alt=\"Open In Colab\"/></a>"
      ]
    },
    {
      "cell_type": "markdown",
      "source": [
        "**Problem Statement 3**"
      ],
      "metadata": {
        "id": "zp4oLz-C817h"
      }
    },
    {
      "cell_type": "markdown",
      "source": [
        "Given a list of lists\n",
        "numbers_nested = [[1,-1,2],[0,-5,3,5,-2],[1,2,1,0,-2,-3]]\n",
        "Write a program to grab only positive numbers in each nested list and put that in a new list\n"
      ],
      "metadata": {
        "id": "KUIq8EPD89z5"
      }
    },
    {
      "cell_type": "code",
      "source": [
        "numbers_nested = [[1, -1, 2], [0, -5, 3, 5, -2], [1, 2, 1, 0, -2, -3]]\n",
        "\n",
        "positive_numbers = []\n",
        "\n",
        "for nested_list in numbers_nested:\n",
        "    \n",
        "    for num in nested_list:\n",
        "        if num > 0:\n",
        "            positive_numbers.append(num)\n",
        "\n",
        "print(positive_numbers)\n"
      ],
      "metadata": {
        "colab": {
          "base_uri": "https://localhost:8080/"
        },
        "id": "hQhQPYru9RGQ",
        "outputId": "bde38efa-060c-4bc7-ca5a-71474d1c3901"
      },
      "execution_count": null,
      "outputs": [
        {
          "output_type": "stream",
          "name": "stdout",
          "text": [
            "[1, 2, 3, 5, 1, 2, 1]\n"
          ]
        }
      ]
    },
    {
      "cell_type": "markdown",
      "source": [
        "Given a list of lists\n",
        "L = [ [1,2,3] , [4,5,6,3], [-1,-2,-10,5,8] ]\n",
        "Write a program to print the average sum of value from each inner list and print the sum of each average.\n"
      ],
      "metadata": {
        "id": "M5UgrEBM9dg4"
      }
    },
    {
      "cell_type": "code",
      "source": [
        "L = [[1, 2, 3], [4, 5, 6, 3], [-1, -2, -10, 5, 8]]\n",
        "\n",
        "sum_of_averages = 0\n",
        "\n",
        "for inner_list in L:\n",
        "    \n",
        "    inner_average = sum(inner_list) / len(inner_list)\n",
        "    \n",
        "   \n",
        "    sum_of_averages += inner_average\n",
        "\n",
        "print(f\"{sum_of_averages} => {' + '.join([str(round(sum(inner_list) / len(inner_list), 2)) for inner_list in L])} => {round(sum_of_averages, 2)}\")\n"
      ],
      "metadata": {
        "colab": {
          "base_uri": "https://localhost:8080/"
        },
        "id": "bhKyPlCk9gDK",
        "outputId": "28068e16-2bcb-4418-97e2-bbe3dca61628"
      },
      "execution_count": null,
      "outputs": [
        {
          "output_type": "stream",
          "name": "stdout",
          "text": [
            "6.5 => 2.0 + 4.5 + 0.0 => 6.5\n"
          ]
        }
      ]
    }
  ]
}