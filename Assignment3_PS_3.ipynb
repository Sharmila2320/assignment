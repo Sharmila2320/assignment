{
  "nbformat": 4,
  "nbformat_minor": 0,
  "metadata": {
    "colab": {
      "provenance": [],
      "authorship_tag": "ABX9TyPze8RAMaT+viu/KFEJJrqf",
      "include_colab_link": true
    },
    "kernelspec": {
      "name": "python3",
      "display_name": "Python 3"
    },
    "language_info": {
      "name": "python"
    }
  },
  "cells": [
    {
      "cell_type": "markdown",
      "metadata": {
        "id": "view-in-github",
        "colab_type": "text"
      },
      "source": [
        "<a href=\"https://colab.research.google.com/github/Sharmila2320/assignment/blob/main/Assignment3_PS_3.ipynb\" target=\"_parent\"><img src=\"https://colab.research.google.com/assets/colab-badge.svg\" alt=\"Open In Colab\"/></a>"
      ]
    },
    {
      "cell_type": "markdown",
      "source": [
        "**Write a Python function that accepts a string and calculate the number of upper case letters and lower case letters.**"
      ],
      "metadata": {
        "id": "OPqgUYJPiv94"
      }
    },
    {
      "cell_type": "code",
      "source": [
        "def count_letters(string):\n",
        "    upper_count = 0\n",
        "    lower_count = 0\n",
        "\n",
        "    for char in string:\n",
        "        if char.isupper():\n",
        "            upper_count += 1\n",
        "        elif char.islower():\n",
        "            lower_count += 1\n",
        "\n",
        "    return upper_count, lower_count\n",
        "\n",
        "\n",
        "input_string = input(\"Enter a string: \")\n",
        "upper_count, lower_count = count_letters(input_string)\n",
        "\n",
        "print(\"Number of uppercase letters:\", upper_count)\n",
        "print(\"Number of lowercase letters:\", lower_count)"
      ],
      "metadata": {
        "colab": {
          "base_uri": "https://localhost:8080/"
        },
        "id": "5nR1fwEHi0LA",
        "outputId": "b2ff42bc-6a4f-4860-b45c-6a5deb5bd128"
      },
      "execution_count": 1,
      "outputs": [
        {
          "output_type": "stream",
          "name": "stdout",
          "text": [
            "Enter a string: Maveric Systems\n",
            "Number of uppercase letters: 2\n",
            "Number of lowercase letters: 12\n"
          ]
        }
      ]
    }
  ]
}